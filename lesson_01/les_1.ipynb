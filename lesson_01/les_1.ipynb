{
 "cells": [
  {
   "cell_type": "markdown",
   "metadata": {},
   "source": [
    "### Вычисления с помощью Numpy"
   ]
  },
  {
   "cell_type": "code",
   "execution_count": 42,
   "metadata": {},
   "outputs": [
    {
     "name": "stdout",
     "output_type": "stream",
     "text": [
      "[2.  8.4]\n"
     ]
    }
   ],
   "source": [
    "# Задание 1\n",
    "# Импортируйте библиотеку Numpy и дайте ей псевдоним np.\n",
    "# Создайте массив Numpy под названием a размером 5x2, то есть состоящий из 5 строк и 2 столбцов. \n",
    "# Первый столбец должен содержать числа 1, 2, 3, 3, 1, а второй - числа 6, 8, 11, 10, 7. Будем считать, \n",
    "# что каждый столбец - это признак, а строка - наблюдение. Затем найдите среднее значение по каждому признаку, \n",
    "# используя метод mean массива Numpy. Результат запишите в массив mean_a, в нем должно быть 2 элемента.\n",
    "\n",
    "\n",
    "import numpy as np\n",
    "\n",
    "a = np.array([[1, 6],\n",
    "              [2, 8],\n",
    "              [3, 11],\n",
    "              [3, 10],\n",
    "              [1, 7]]\n",
    "            )\n",
    "\n",
    "mean_a = np.array(a.mean(axis=0))\n",
    "\n",
    "print(mean_a)"
   ]
  },
  {
   "cell_type": "code",
   "execution_count": 43,
   "metadata": {
    "scrolled": false
   },
   "outputs": [
    {
     "name": "stdout",
     "output_type": "stream",
     "text": [
      "[[-1.  -2.4]\n",
      " [ 0.  -0.4]\n",
      " [ 1.   2.6]\n",
      " [ 1.   1.6]\n",
      " [-1.  -1.4]]\n"
     ]
    }
   ],
   "source": [
    "# Задание 2\n",
    "# Вычислите массив a_centered, отняв от значений массива “а” средние значения соответствующих признаков, \n",
    "# содержащиеся в массиве mean_a. Вычисление должно производиться в одно действие. Получившийся массив должен иметь размер 5x2.\n",
    "\n",
    "a_centered = a - mean_a\n",
    "print(a_centered)"
   ]
  },
  {
   "cell_type": "code",
   "execution_count": 44,
   "metadata": {
    "scrolled": true
   },
   "outputs": [
    {
     "name": "stdout",
     "output_type": "stream",
     "text": [
      "2.0\n"
     ]
    }
   ],
   "source": [
    "# Задание 3\n",
    "# Найдите скалярное произведение столбцов массива a_centered. В результате должна получиться величина a_centered_sp.\n",
    "# Затем поделите a_centered_sp на N-1, где N - число наблюдений.\n",
    "\n",
    "a_sentered_sp = a_centered[:,0].dot(a_centered[:,1])\n",
    "\n",
    "N = len(a) - 1\n",
    "\n",
    "res = a_sentered_sp / N\n",
    "\n",
    "print(res)\n"
   ]
  },
  {
   "cell_type": "code",
   "execution_count": 45,
   "metadata": {},
   "outputs": [
    {
     "name": "stdout",
     "output_type": "stream",
     "text": [
      "2.0\n"
     ]
    }
   ],
   "source": [
    "# Задание 4**\n",
    "# Число, которое мы получили в конце задания 3 является ковариацией двух признаков, содержащихся в массиве “а”. \n",
    "# В задании 4 мы делили сумму произведений центрированных признаков на N-1, а не на N, \n",
    "# поэтому полученная нами величина является несмещенной оценкой ковариации.\n",
    "# \n",
    "# Подробнее узнать о ковариации можно здесь:\n",
    "# https://studopedia.ru/9_153900_viborochnaya-kovariatsiya-i-viborochnaya-dispersiya.html\n",
    "# \n",
    "# В этом задании проверьте получившееся число, вычислив ковариацию еще одним способом - с помощью функции np.cov. \n",
    "# В качестве аргумента m функция np.cov должна принимать транспонированный массив “a”. \n",
    "# В получившейся ковариационной матрице (массив Numpy размером 2x2) искомое значение ковариации будет равно элементу \n",
    "# в строке с индексом 0 и столбце с индексом 1.\n",
    "\n",
    "a_T = np.transpose(a)\n",
    "\n",
    "cov = np.cov(a_T)\n",
    "print(cov[0, 1])\n",
    "\n"
   ]
  },
  {
   "cell_type": "markdown",
   "metadata": {},
   "source": [
    "### Работа с данными в Pandas"
   ]
  },
  {
   "cell_type": "code",
   "execution_count": 46,
   "metadata": {},
   "outputs": [
    {
     "name": "stdout",
     "output_type": "stream",
     "text": [
      "authors:\n",
      "   author_id author_name\n",
      "0          1    Тургенев\n",
      "1          2       Чехов\n",
      "2          3  Островский\n",
      "\n",
      "book:\n",
      "   author_id            book_title  price\n",
      "0          1           Отцы и дети    450\n",
      "1          1                 Рубин    300\n",
      "2          1     Дворянское гнездо    350\n",
      "3          2      Толстый и тонкий    500\n",
      "4          2       Дама с собачкой    450\n",
      "5          3                 Гроза    370\n",
      "6          3  Таланты и поклонники    290\n",
      "\n"
     ]
    }
   ],
   "source": [
    "# Задание 1\n",
    "# Импортируйте библиотеку Pandas и дайте ей псевдоним pd. Создайте датафрейм authors со столбцами author_id и author_name, \n",
    "# в которых соответственно содержатся данные: [1, 2, 3] и ['Тургенев', 'Чехов', 'Островский'].\n",
    "# Затем создайте датафрейм book cо столбцами author_id, book_title и price, в которых соответственно содержатся данные: \n",
    "# [1, 1, 1, 2, 2, 3, 3], \n",
    "# ['Отцы и дети', 'Рудин', 'Дворянское гнездо', 'Толстый и тонкий', 'Дама с собачкой', 'Гроза', 'Таланты и поклонники'],\n",
    "# [450, 300, 350, 500, 450, 370, 290].\n",
    "\n",
    "import pandas as pd\n",
    "\n",
    "authors = {\n",
    "    \"author_id\": [1, 2, 3],\n",
    "    \"author_name\" : ['Тургенев', 'Чехов', 'Островский']\n",
    "}\n",
    "authors = pd.DataFrame(authors)\n",
    "\n",
    "print(f'authors:\\n{authors}\\n')\n",
    "\n",
    "book = {\n",
    "    \"author_id\": [1, 1, 1, 2, 2, 3, 3],\n",
    "    \"book_title\": ['Отцы и дети', 'Рубин', 'Дворянское гнездо', 'Толстый и тонкий', 'Дама с собачкой', 'Гроза', \n",
    "                   'Таланты и поклонники'],\n",
    "    \"price\": [450, 300, 350, 500, 450, 370, 290]\n",
    "}\n",
    "book = pd.DataFrame(book)\n",
    "\n",
    "print(f'book:\\n{book}\\n')"
   ]
  },
  {
   "cell_type": "code",
   "execution_count": 47,
   "metadata": {},
   "outputs": [
    {
     "name": "stdout",
     "output_type": "stream",
     "text": [
      "authors_price:\n",
      "   author_id author_name            book_title  price\n",
      "0          1    Тургенев           Отцы и дети    450\n",
      "1          1    Тургенев                 Рубин    300\n",
      "2          1    Тургенев     Дворянское гнездо    350\n",
      "3          2       Чехов      Толстый и тонкий    500\n",
      "4          2       Чехов       Дама с собачкой    450\n",
      "5          3  Островский                 Гроза    370\n",
      "6          3  Островский  Таланты и поклонники    290\n"
     ]
    }
   ],
   "source": [
    "# Задание 2\n",
    "# Получите датафрейм authors_price, соединив датафреймы authors и books по полю author_id.\n",
    "\n",
    "authors_price = pd.merge(authors, book, on=\"author_id\", how=\"inner\")\n",
    "print(f'authors_price:\\n{authors_price}')\n",
    "\n"
   ]
  },
  {
   "cell_type": "code",
   "execution_count": 48,
   "metadata": {},
   "outputs": [
    {
     "name": "stdout",
     "output_type": "stream",
     "text": [
      "top_5:\n",
      "    author_id author_name         book_title  price\n",
      "3          2       Чехов   Толстый и тонкий    500\n",
      "0          1    Тургенев        Отцы и дети    450\n",
      "4          2       Чехов    Дама с собачкой    450\n",
      "5          3  Островский              Гроза    370\n",
      "2          1    Тургенев  Дворянское гнездо    350\n"
     ]
    }
   ],
   "source": [
    "# Задание 3\n",
    "# Создайте датафрейм top5, в котором содержатся строки из authors_price с пятью самыми дорогими книгами.\n",
    "\n",
    "top_5 = authors_price.sort_values(by=\"price\", ascending=False).head(5)\n",
    "print(f'top_5:\\n {top_5}')"
   ]
  },
  {
   "cell_type": "code",
   "execution_count": 49,
   "metadata": {},
   "outputs": [
    {
     "name": "stdout",
     "output_type": "stream",
     "text": [
      "authors_stat:\n",
      "              min_price  max_price  mean_price\n",
      "author_name                                  \n",
      "Островский         290        370  330.000000\n",
      "Тургенев           300        450  366.666667\n",
      "Чехов              450        500  475.000000\n"
     ]
    }
   ],
   "source": [
    "# Задание 4\n",
    "# Создайте датафрейм authors_stat на основе информации из authors_price. В датафрейме authors_stat должны быть четыре столбца:\n",
    "# author_name, min_price, max_price и mean_price,\n",
    "# в которых должны содержаться соответственно имя автора,минимальная, максимальная и средняя цена на книги этого автора.\n",
    "\n",
    "# a_s_pr = authors_price.groupby([\"price\"])\n",
    "a_s_min = authors_price.groupby('author_name').agg({'price': 'min'}).rename(columns={\"price\":\"min_price\"})\n",
    "a_s_max = authors_price.groupby('author_name').agg({'price': 'max'}).rename(columns={\"price\":\"max_price\"})\n",
    "a_s_mean = authors_price.groupby('author_name').agg({'price': 'mean'}).rename(columns={\"price\":\"mean_price\"})\n",
    "\n",
    "authors_stat = pd.concat([a_s_min, a_s_max, a_s_mean], axis=1)\n",
    "print(f'authors_stat:\\n {authors_stat}')\n"
   ]
  },
  {
   "cell_type": "code",
   "execution_count": 50,
   "metadata": {},
   "outputs": [
    {
     "name": "stdout",
     "output_type": "stream",
     "text": [
      "book_info:\n",
      "              price        \n",
      "cover       мягкая твердая\n",
      "author_name               \n",
      "Островский   330.0     0.0\n",
      "Тургенев     325.0   450.0\n",
      "Чехов          0.0   475.0\n",
      "\n",
      "\n",
      "book_info2:\n",
      "              price        \n",
      "cover       мягкая твердая\n",
      "author_name               \n",
      "Островский   330.0     0.0\n",
      "Тургенев     325.0   450.0\n",
      "Чехов          0.0   475.0\n"
     ]
    }
   ],
   "source": [
    "# Задание 5**\n",
    "# Создайте новый столбец в датафрейме authors_price под названием cover, в нем будут располагаться данные о том, \n",
    "# какая обложка у данной книги - твердая или мягкая. В этот столбец поместите данные из следующего списка:\n",
    "# ['твердая', 'мягкая', 'мягкая', 'твердая', 'твердая', 'мягкая', 'мягкая'].\n",
    "\n",
    "# Просмотрите документацию по функции pd.pivot_table с помощью вопросительного знака.\n",
    "# Для каждого автора посчитайте суммарную стоимость книг в твердой и мягкой обложке. \n",
    "# Используйте для этого функцию pd.pivot_table. При этом столбцы должны называться \"твердая\" и \"мягкая\", \n",
    "# а индексами должны быть фамилии авторов. Пропущенные значения стоимостей заполните нулями, \n",
    "# при необходимости загрузите библиотеку Numpy.\n",
    "# Назовите полученный датасет book_info и сохраните его в формат pickle под названием \"book_info.pkl\". \n",
    "# Затем загрузите из этого файла датафрейм и назовите его book_info2. Удостоверьтесь, что датафреймы book_info и book_info2 \n",
    "# идентичны.\n",
    "\n",
    "authors_price['cover'] = ['твердая', 'мягкая', 'мягкая', 'твердая', 'твердая', 'мягкая', 'мягкая']\n",
    "\n",
    "# print(authors_price)\n",
    "book_info = pd.pivot_table(authors_price, values=[\"price\"], index=[\"author_name\"], columns=[\"cover\"])\n",
    "book_info[\"price\"] = book_info[\"price\"].fillna(0)\n",
    "print(f'book_info:\\n {book_info}\\n\\n')\n",
    "\n",
    "book_info.to_pickle(\"book_info.pkl\")\n",
    "\n",
    "book_info2 = pd.read_pickle(\"book_info.pkl\")\n",
    "print(f'book_info2:\\n {book_info2}')"
   ]
  },
  {
   "cell_type": "code",
   "execution_count": null,
   "metadata": {},
   "outputs": [],
   "source": []
  }
 ],
 "metadata": {
  "kernelspec": {
   "display_name": "Python 3",
   "language": "python",
   "name": "python3"
  },
  "language_info": {
   "codemirror_mode": {
    "name": "ipython",
    "version": 3
   },
   "file_extension": ".py",
   "mimetype": "text/x-python",
   "name": "python",
   "nbconvert_exporter": "python",
   "pygments_lexer": "ipython3",
   "version": "3.8.5"
  }
 },
 "nbformat": 4,
 "nbformat_minor": 4
}
